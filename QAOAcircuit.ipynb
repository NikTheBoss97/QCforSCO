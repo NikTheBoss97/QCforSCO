{
 "cells": [
  {
   "cell_type": "code",
   "execution_count": null,
   "metadata": {},
   "outputs": [],
   "source": [
    "from docplex.mp.model import Model\n",
    "from qiskit_optimization import QuadraticProgram\n",
    "from qiskit.quantum_info import SparsePauliOp\n",
    "from qiskit_optimization.translators import from_docplex_mp\n",
    "from qiskit_optimization.converters import InequalityToEquality, QuadraticProgramToQubo, IntegerToBinary, LinearEqualityToPenalty\n",
    "from qiskit_optimization.algorithms import MinimumEigenOptimizer\n",
    "from qiskit_aer import AerSimulator\n",
    "from qiskit.circuit.library import QAOAAnsatz\n",
    "from qiskit_algorithms import QAOA, NumPyMinimumEigensolver\n",
    "from qiskit_algorithms.utils import algorithm_globals\n",
    "from qiskit_algorithms.optimizers import COBYLA\n",
    "from qiskit.transpiler.preset_passmanagers import generate_preset_pass_manager\n",
    "from qiskit_ibm_runtime import QiskitRuntimeService\n",
    "from qiskit_ibm_runtime import SamplerV2 as Sampler\n",
    "from qiskit.visualization import plot_histogram\n",
    "from qiskit.visualization import plot_coupling_map\n",
    "from qiskit_ibm_runtime import Session\n",
    "from qiskit_ibm_runtime import EstimatorV2 as Estimator\n",
    "from qiskit_ibm_runtime import SamplerV2 as Sampler\n",
    "from scipy.optimize import minimize\n",
    "import rustworkx as rx\n",
    "from typing import List, Tuple\n",
    "import numpy as np\n",
    "import matplotlib.pyplot as plt\n",
    "import matplotlib\n",
    "from dotenv import load_dotenv\n",
    "import os\n"
   ]
  },
  {
   "cell_type": "code",
   "execution_count": null,
   "metadata": {},
   "outputs": [],
   "source": [
    "# Set a seed for future replicability\n",
    "algorithm_globals.random_seed = 42"
   ]
  },
  {
   "cell_type": "code",
   "execution_count": null,
   "metadata": {},
   "outputs": [],
   "source": [
    "def build_docplex_model():\n",
    "    # 1) Create the docplex model\n",
    "    m = Model(name=\"my_miqp\")\n",
    "\n",
    "    # 2) Define parameters (like in Julia)\n",
    "    n = 3\n",
    "    h = [1, 1, 1]\n",
    "    k = [1.64, 1.64, 1.64]\n",
    "    lambdas = [1, 1, 1]   # 'lambda' is a reserved keyword in Python\n",
    "    sigma = [2, 2, 2]\n",
    "    M = 10\n",
    "    N = 10\n",
    "    ST0 = 0\n",
    "    ST3 = 1\n",
    "\n",
    "    # 3) Create variables\n",
    "    # Integer variables\n",
    "    ST = [m.integer_var(lb=0, ub=3, name=f\"ST_{i}\") for i in range(1,3)] # ST[0] and ST[3] are constants\n",
    "    z  = [m.integer_var(lb=0, ub=3, name=f\"z_{i}\")  for i in range(1, n+1)]\n",
    "    u  = [m.integer_var(lb=0, ub=3, name=f\"u_{i}\")  for i in range(1, n+1)]\n",
    "    H  = [m.integer_var(lb=0, ub=3, name=f\"H_{i}\")  for i in range(1, n+1)]\n",
    "    # Binary variables\n",
    "    y11 = m.binary_var(name=\"y_1_1\")\n",
    "    y12 = m.binary_var(name=\"y_1_2\")\n",
    "    y13 = m.binary_var(name=\"y_1_3\")\n",
    "    x10 = m.binary_var(name=\"x_1_0\")\n",
    "    x21 = m.binary_var(name=\"x_2_1\")\n",
    "    x32 = m.binary_var(name=\"x_3_2\")\n",
    "\n",
    "    # 4) Add constraints that must hold exactly:\n",
    "    #    ST[3] == 1, ST[0] == 0\n",
    "    # m.add_constraint(ST[3] == 1)\n",
    "    # m.add_constraint(ST[0] == 0)\n",
    "\n",
    "    # 5) Build the objective expression\n",
    "    #    In DOcplex, you can just write z[i]*z[i] for z[i]^2, etc.\n",
    "    #    However, be mindful that squares of integer variables => MIQP\n",
    "    #    Below is a direct translation from your Julia objective.\n",
    "\n",
    "    # Minimize sum(h[i]*k[i]*sigma[i]*z[i]) for i in 1..n\n",
    "    obj_expr = 0\n",
    "    for i in range(n):\n",
    "        obj_expr += h[i] * k[i] * sigma[i] * z[i]\n",
    "    m.minimize(obj_expr)\n",
    "\n",
    "    # 6) Add the constraints\n",
    "    # u[1] <= lambda[1] - z[1]^2 + M*(1-y11)\n",
    "    m.add_constraint(u[0] <= lambdas[0] - z[0]**2 + M*(1 - y11))\n",
    "\n",
    "    # y11 >= 1  => forces y11==1\n",
    "    m.add_constraint(y11 >= 1)\n",
    "\n",
    "    # u[2] <= lambda[1] - z[1]^2 + lambda[2] - z[2]^2 + M*(1-y12)\n",
    "    m.add_constraint(u[1] <= lambdas[0] - z[0]**2 + lambdas[1] - z[1]**2 + M*(1 - y12))\n",
    "\n",
    "    # y12 >= 1\n",
    "    m.add_constraint(y12 >= 1)\n",
    "\n",
    "    # u[3] <= lambda[1] - z[1]^2 + lambda[2] - z[2]^2 + lambda[3] - z[3]^2 + M*(1-y13)\n",
    "    m.add_constraint(u[2] <= lambdas[0] - z[0]**2 +\n",
    "                                lambdas[1] - z[1]**2 +\n",
    "                                lambdas[2] - z[2]**2 + M*(1 - y13))\n",
    "    \n",
    "    # y13 >= 1\n",
    "    m.add_constraint(y13 >= 1)\n",
    "\n",
    "    # z[1]^2 + z[2]^2 + z[3]^2 >= sum(lambda) - ST[3]\n",
    "    m.add_constraint(z[0]**2 + z[1]**2 + z[2]**2 >= sum(lambdas) - ST3)\n",
    "\n",
    "    # z[1]^2 == H[1] + lambda[1] - ST[1]\n",
    "    m.add_constraint(z[0]**2 == H[0] + lambdas[0] - ST[0])\n",
    "\n",
    "    # H[1] >= ST[0]\n",
    "    m.add_constraint(H[0] >= ST0)\n",
    "\n",
    "    # H[1] - ST[0] - N*(1 - x10) <= 0\n",
    "    m.add_constraint(H[0] - ST0 - N*(1 - x10) <= 0)\n",
    "\n",
    "    # x10 >= 1\n",
    "    m.add_constraint(x10 >= 1)\n",
    "\n",
    "    # z[2]^2 == H[2] + lambda[2] - ST[2]\n",
    "    m.add_constraint(z[1]**2 == H[1] + lambdas[1] - ST[1])\n",
    "\n",
    "    # H[2] >= ST[1]\n",
    "    m.add_constraint(H[1] >= ST[0])\n",
    "\n",
    "    # H[2] - ST[1] - N*(1 - x21) <= 0\n",
    "    m.add_constraint(H[1] - ST[0] - N*(1 - x21) <= 0)\n",
    "\n",
    "    # x21 >= 1\n",
    "    m.add_constraint(x21 >= 1)\n",
    "\n",
    "    # z[3]^2 == H[3] + lambda[3] - ST[3]\n",
    "    m.add_constraint(z[2]**2 == H[2] + lambdas[2] - ST3)\n",
    "\n",
    "    # H[3] >= ST[2]\n",
    "    m.add_constraint(H[2] >= ST[1])\n",
    "\n",
    "    # H[3] - ST[2] - N*(1 - x32) <= 0\n",
    "    m.add_constraint(H[2] - ST[1] - N*(1 - x32) <= 0)\n",
    "\n",
    "    # x32 >= 1\n",
    "    m.add_constraint(x32 >= 1)\n",
    "\n",
    "    return m\n"
   ]
  },
  {
   "cell_type": "code",
   "execution_count": null,
   "metadata": {},
   "outputs": [],
   "source": [
    "# 1. Build the DOcplex model and convert it to a QuadraticProgram.\n",
    "docplex_model = build_docplex_model()\n",
    "qp = from_docplex_mp(docplex_model)\n",
    "print(\"=== Original Quadratic Program ===\")\n",
    "print(qp.export_as_lp_string())"
   ]
  },
  {
   "cell_type": "code",
   "execution_count": null,
   "metadata": {},
   "outputs": [],
   "source": [
    " # ----- Step 2. Use converters to remove constraints -----\n",
    "# First, convert any inequality constraints into equality constraints.\n",
    "ineq_to_eq = InequalityToEquality()\n",
    "qp_eq = ineq_to_eq.convert(qp)\n",
    "\n",
    "# Then, convert linear equality constraints into penalty terms in the objective.\n",
    "lin_eq_to_penalty = LinearEqualityToPenalty()\n",
    "qp_unconstrained = lin_eq_to_penalty.convert(qp_eq)\n",
    "\n",
    "# (For many MIQPs it is also useful to convert integer variables to binary and then to a QUBO.)\n",
    "int_2_bin = IntegerToBinary()\n",
    "qp_bin = int_2_bin.convert(qp_unconstrained)\n",
    "qp_qubo = QuadraticProgramToQubo().convert(qp_bin)\n",
    "\n",
    "print(\"\\n=== QUBO Formulation ===\")\n",
    "print(qp_qubo.export_as_lp_string())"
   ]
  },
  {
   "cell_type": "code",
   "execution_count": null,
   "metadata": {},
   "outputs": [],
   "source": [
    "num_binary = qp_qubo.get_num_vars()\n",
    "print(\"Number of binary variables:\", num_binary)"
   ]
  },
  {
   "cell_type": "code",
   "execution_count": null,
   "metadata": {},
   "outputs": [],
   "source": [
    "# ----- Step 2. Convert QUBO to an Ising operator -----\n",
    "# The QUBO can be mapped to an Ising Hamiltonian.\n",
    "qubit_op, offset = qp_qubo.to_ising()\n"
   ]
  },
  {
   "cell_type": "code",
   "execution_count": null,
   "metadata": {},
   "outputs": [],
   "source": [
    "# ----- Step 3. Build and display the QAOAAnsatz circuit -----\n",
    "# Create the QAOAAnsatz using the operator and choose 1 repetition.\n",
    "cirquit_qaoa_ansatz = QAOAAnsatz(cost_operator=qubit_op, reps=1)\n",
    "print(\"\\n=== QAOAAnsatz Circuit ===\")\n",
    "\n",
    "# Finalize the cirquit\n",
    "cirquit_qaoa_ansatz.measure_all()\n",
    "\n",
    "# Display the circuit as a matplotlib figure in the notebook.\n",
    "cirquit_qaoa_ansatz.draw('mpl', fold=False, scale=0.2, idle_wires=False)"
   ]
  },
  {
   "cell_type": "code",
   "execution_count": null,
   "metadata": {},
   "outputs": [],
   "source": [
    "# # Initialize the backend\n",
    "# from qiskit.providers.fake_provider import Fake127QPulseV1 # or any other Fake device\n",
    "# chip = Fake127QPulseV1()\n",
    "# #backend = AerSimulator.from_backend(backend=chip, max_memory_mb=20480) # 20GB of RAM\n",
    "# backend = AerSimulator(max_memory_mb=20480, method=\"matrix_product_state\")\n"
   ]
  },
  {
   "cell_type": "code",
   "execution_count": null,
   "metadata": {},
   "outputs": [],
   "source": [
    "# Load IQP_API_TOKEN from the .env file\n",
    "load_dotenv()\n",
    "token = os.getenv(\"IQP_API_TOKEN\")\n",
    "\n",
    "# QiskitRuntimeService.save_account(channel=\"ibm_quantum\", token=\"<MY_IBM_QUANTUM_TOKEN>\", overwrite=True, set_as_default=True)\n",
    "service = QiskitRuntimeService(channel='ibm_quantum', token=token)\n",
    "backend = service.least_busy(min_num_qubits=127)\n",
    "print(backend)"
   ]
  },
  {
   "cell_type": "code",
   "execution_count": null,
   "metadata": {},
   "outputs": [],
   "source": [
    "# Plot the coupling map (topology) graphically\n",
    "plot_coupling_map(num_qubits=127, qubit_coordinates=None, coupling_map=backend.configuration().coupling_map)\n"
   ]
  },
  {
   "cell_type": "code",
   "execution_count": null,
   "metadata": {},
   "outputs": [],
   "source": [
    "# Optimize the cirquit\n",
    "pm = generate_preset_pass_manager(optimization_level=3,\n",
    "                                    backend=backend)\n",
    "\n",
    "candidate_circuit = pm.run(cirquit_qaoa_ansatz)\n",
    "candidate_circuit.draw('mpl', fold=False, scale=0.1, idle_wires=False)"
   ]
  },
  {
   "cell_type": "code",
   "execution_count": null,
   "metadata": {},
   "outputs": [],
   "source": [
    "initial_gamma = np.pi\n",
    "initial_beta = np.pi/2\n",
    "init_params = [initial_gamma, initial_beta]"
   ]
  },
  {
   "cell_type": "code",
   "execution_count": null,
   "metadata": {},
   "outputs": [],
   "source": [
    "def cost_func_estimator(params, ansatz, hamiltonian, estimator):\n",
    "\n",
    "    # transform the observable defined on virtual qubits to\n",
    "    # an observable defined on all physical qubits\n",
    "    isa_hamiltonian = hamiltonian.apply_layout(ansatz.layout)\n",
    "\n",
    "    pub = (ansatz, isa_hamiltonian, params)\n",
    "    job = estimator.run([pub])\n",
    "\n",
    "    results = job.result()[0]\n",
    "    cost = results.data.evs\n",
    "\n",
    "    objective_func_vals.append(cost)\n",
    "\n",
    "\n",
    "    return cost"
   ]
  },
  {
   "cell_type": "code",
   "execution_count": null,
   "metadata": {},
   "outputs": [],
   "source": [
    "# Check the cirquit parameters\n",
    "print(candidate_circuit.num_parameters)\n",
    "print(candidate_circuit.parameters)\n"
   ]
  },
  {
   "cell_type": "code",
   "execution_count": null,
   "metadata": {},
   "outputs": [],
   "source": [
    "objective_func_vals = [] # Global variable\n",
    "with Session(backend=backend) as session:\n",
    "    # If using qiskit-ibm-runtime<0.24.0, change `mode=` to `session=`\n",
    "    # estimator = Estimator(mode=backend)\n",
    "    estimator = Estimator(mode=backend)\n",
    "\n",
    "    estimator.options.default_shots = 1000\n",
    "\n",
    "    # Set simple error suppression/mitigation options\n",
    "    estimator.options.dynamical_decoupling.enable = True\n",
    "    estimator.options.dynamical_decoupling.sequence_type = \"XY4\"\n",
    "    estimator.options.twirling.enable_gates = True\n",
    "    estimator.options.twirling.num_randomizations = \"auto\"\n",
    "\n",
    "    result = minimize(\n",
    "        cost_func_estimator,\n",
    "        init_params,\n",
    "        args=(candidate_circuit, qubit_op, estimator),\n",
    "        method=\"COBYLA\",\n",
    "    )\n",
    "    print(result)"
   ]
  },
  {
   "cell_type": "code",
   "execution_count": null,
   "metadata": {},
   "outputs": [],
   "source": [
    "import matplotlib.pyplot as plt\n",
    "\n",
    "plt.figure(figsize=(12, 6))\n",
    "plt.plot(objective_func_vals)\n",
    "plt.xlabel(\"Iteration\")\n",
    "plt.ylabel(\"Cost\")\n",
    "plt.show()"
   ]
  },
  {
   "cell_type": "code",
   "execution_count": null,
   "metadata": {},
   "outputs": [],
   "source": [
    "optimized_circuit = candidate_circuit.assign_parameters(result.x)\n",
    "optimized_circuit.draw('mpl', fold=False, idle_wires=False)"
   ]
  },
  {
   "cell_type": "code",
   "execution_count": null,
   "metadata": {},
   "outputs": [],
   "source": [
    "# If using qiskit-ibm-runtime<0.24.0, change `mode=` to `backend=`\n",
    "sampler = Sampler(mode=backend)\n",
    "sampler.options.default_shots = 10000\n",
    "\n",
    "# Set simple error suppression/mitigation options\n",
    "sampler.options.dynamical_decoupling.enable = True\n",
    "sampler.options.dynamical_decoupling.sequence_type = \"XY4\"\n",
    "sampler.options.twirling.enable_gates = True\n",
    "sampler.options.twirling.num_randomizations = \"auto\"\n",
    "\n",
    "\n",
    "pub= (optimized_circuit, )\n",
    "job = sampler.run([pub], shots=10000)\n",
    "\n",
    "counts_int = job.result()[0].data.meas.get_int_counts()\n",
    "counts_bin = job.result()[0].data.meas.get_counts()\n",
    "shots = sum(counts_int.values())\n",
    "final_distribution_int = {key: val/shots for key, val in counts_int.items()}\n",
    "final_distribution_bin = {key: val/shots for key, val in counts_bin.items()}\n",
    "print(final_distribution_bin)"
   ]
  },
  {
   "cell_type": "code",
   "execution_count": null,
   "metadata": {},
   "outputs": [],
   "source": [
    "# auxiliary functions to sample most likely bitstring\n",
    "def to_bitstring(integer, num_bits):\n",
    "    result = np.binary_repr(integer, width=num_bits)\n",
    "    return [int(digit) for digit in result]"
   ]
  },
  {
   "cell_type": "code",
   "execution_count": null,
   "metadata": {},
   "outputs": [],
   "source": [
    "_PARITY = np.array([-1 if bin(i).count(\"1\") % 2 else 1 for i in range(256)], dtype=np.complex128)\n",
    "\n",
    "\n",
    "def evaluate_sparse_pauli(state: int, observable: SparsePauliOp) -> complex:\n",
    "    \"\"\"Utility for the evaluation of the expectation value of a measured state.\"\"\"\n",
    "    packed_uint8 = np.packbits(observable.paulis.z, axis=1, bitorder=\"little\")\n",
    "    state_bytes = np.frombuffer(state.to_bytes(packed_uint8.shape[1], \"little\"), dtype=np.uint8)\n",
    "    reduced = np.bitwise_xor.reduce(packed_uint8 & state_bytes, axis=1)\n",
    "    return np.sum(observable.coeffs * _PARITY[reduced])\n",
    "\n",
    "def best_solution(samples, hamiltonian):\n",
    "    \"\"\"Find solution with lowest cost\"\"\"\n",
    "    min_cost = 1000\n",
    "    min_sol = None\n",
    "    for bit_str in samples.keys():\n",
    "        # Qiskit use little endian hence the [::-1]\n",
    "        candidate_sol = int(bit_str)\n",
    "        # fval = qp.objective.evaluate(candidate_sol)\n",
    "        fval = evaluate_sparse_pauli(candidate_sol, hamiltonian).real\n",
    "        if fval <= min_cost:\n",
    "            min_sol = candidate_sol\n",
    "\n",
    "    return min_sol\n",
    "\n",
    "best_sol = best_solution(final_distribution_int, qubit_op)\n",
    "best_sol_bitstring = to_bitstring(int(best_sol), num_binary)\n",
    "best_sol_bitstring.reverse()\n",
    "\n",
    "print(\"Result bitstring:\", best_sol_bitstring)"
   ]
  },
  {
   "cell_type": "code",
   "execution_count": null,
   "metadata": {},
   "outputs": [],
   "source": [
    "from collections import defaultdict\n",
    "import matplotlib.pyplot as plt\n",
    "\n",
    "# auxiliary function to help plot cumulative distribution functions\n",
    "def _plot_cdf(objective_values: dict, ax, color):\n",
    "    x_vals = sorted(objective_values.keys(), reverse=True)\n",
    "    y_vals = np.cumsum([objective_values[x] for x in x_vals])\n",
    "    ax.plot(x_vals, y_vals, color=color)\n",
    "\n",
    "\n",
    "def plot_cdf(dist, ax, title):\n",
    "    _plot_cdf(dist, ax, \"C1\",)\n",
    "    ax.vlines(min(list(dist.keys())), 0, 1, \"C1\", linestyle=\"--\")\n",
    "\n",
    "    ax.set_title(title)\n",
    "    ax.set_xlabel(\"Objective function value\")\n",
    "    ax.set_ylabel(\"Cumulative distribution function\")\n",
    "    ax.grid(alpha=0.3)\n",
    "\n",
    "# auxiliary function to convert bit-strings to objective values\n",
    "def samples_to_objective_values(samples, hamiltonian):\n",
    "    \"\"\"Convert the samples to values of the objective function.\"\"\"\n",
    "\n",
    "    objective_values = defaultdict(float)\n",
    "    for bit_str, prob in samples.items():\n",
    "        candidate_sol = int(bit_str)\n",
    "        fval = evaluate_sparse_pauli(candidate_sol, hamiltonian).real\n",
    "        objective_values[fval] += prob\n",
    "\n",
    "    return objective_values"
   ]
  },
  {
   "cell_type": "code",
   "execution_count": null,
   "metadata": {},
   "outputs": [],
   "source": [
    "result_dist = samples_to_objective_values(final_distribution_int, qubit_op)"
   ]
  },
  {
   "cell_type": "code",
   "execution_count": null,
   "metadata": {},
   "outputs": [],
   "source": [
    "fig, ax = plt.subplots(1, 1, figsize=(8, 6))\n",
    "plot_cdf(result_dist, ax, \"Eagle  device\")"
   ]
  },
  {
   "cell_type": "code",
   "execution_count": null,
   "metadata": {},
   "outputs": [],
   "source": [
    "# 1. Extract the most likely bitstring:\n",
    "most_likely_bitstring = max(final_distribution_bin, key=final_distribution_bin.get)\n",
    "print(\"Most likely bitstring:\", most_likely_bitstring)"
   ]
  },
  {
   "cell_type": "code",
   "execution_count": null,
   "metadata": {},
   "outputs": [],
   "source": [
    "# 2. Convert the bitstring into a list of integers.\n",
    "binary_solution = [int(bit) for bit in most_likely_bitstring]\n",
    "print(\"Binary solution (list):\", binary_solution)"
   ]
  },
  {
   "cell_type": "code",
   "execution_count": null,
   "metadata": {},
   "outputs": [],
   "source": [
    "# 3. Construct a dictionary mapping variable names to values.\n",
    "#    The QUBO object keeps track of the variable ordering.\n",
    "binary_assignment = {\n",
    "    var: binary_solution[i] for i, var in enumerate(qp_qubo.variables)\n",
    "}\n",
    "print(\"Binary assignment dict:\", binary_assignment)"
   ]
  },
  {
   "cell_type": "code",
   "execution_count": null,
   "metadata": {},
   "outputs": [],
   "source": [
    "# 4. Now invert the binary solution to recover original integer variable values.\n",
    "#    This uses the same IntegerToBinary converter instance used for conversion.\n",
    "original_values = int_2_bin.interpret(binary_solution)\n",
    "# Now get the list of original variable names from your original QuadraticProgram\n",
    "original_variables = qp_eq.variables\n",
    "\n",
    "# Create a dictionary mapping each variable name to its recovered value\n",
    "original_solution_dict = {var.name: val for var, val in zip(original_variables, original_values)}\n",
    "\n",
    "original_solution_int = {var: int(val) for var, val in original_solution_dict.items()}\n",
    "print(\"Original variable assignments:\")\n",
    "print(original_solution_int)\n"
   ]
  },
  {
   "cell_type": "code",
   "execution_count": null,
   "metadata": {},
   "outputs": [],
   "source": [
    "# Assuming final_distribution_bin is a dictionary of bitstrings and their probabilities\n",
    "final_bits = final_distribution_bin\n",
    "\n",
    "# Sort bitstrings by probability in descending order\n",
    "sorted_bits = dict(sorted(final_bits.items(), key=lambda item: item[1], reverse=True))\n",
    "\n",
    "# Keep only the top 100 most likely values\n",
    "top_100_bits = dict(list(sorted_bits.items())[:100])\n",
    "\n",
    "# Get the probabilities\n",
    "values = np.array(list(top_100_bits.values()))\n",
    "\n",
    "# Identify the top 4 values\n",
    "top_4_values = sorted(values, reverse=True)[:4]\n",
    "\n",
    "# Find the positions of the top 4 values in the sorted data\n",
    "positions = []\n",
    "for value in top_4_values:\n",
    "    positions.append(np.where(values == value)[0][0])  # Taking first match\n",
    "\n",
    "# Plotting\n",
    "plt.figure(figsize=(11, 6))\n",
    "plt.xticks(rotation=45)\n",
    "plt.title(\"Result Distribution (Top 100 Bitstrings)\")\n",
    "plt.xlabel(\"Bitstrings (reversed)\")\n",
    "plt.ylabel(\"Probability\")\n",
    "\n",
    "# Create a bar chart\n",
    "bars = plt.bar(list(top_100_bits.keys()), list(top_100_bits.values()), color=\"tab:grey\")\n",
    "\n",
    "# Highlight the top 4 values in purple\n",
    "for p in positions:\n",
    "    bars[p].set_color(\"tab:purple\")\n",
    "\n",
    "plt.show()\n"
   ]
  }
 ],
 "metadata": {
  "kernelspec": {
   "display_name": "Python 3",
   "language": "python",
   "name": "python3"
  },
  "language_info": {
   "codemirror_mode": {
    "name": "ipython",
    "version": 3
   },
   "file_extension": ".py",
   "mimetype": "text/x-python",
   "name": "python",
   "nbconvert_exporter": "python",
   "pygments_lexer": "ipython3",
   "version": "3.12.7"
  }
 },
 "nbformat": 4,
 "nbformat_minor": 2
}
