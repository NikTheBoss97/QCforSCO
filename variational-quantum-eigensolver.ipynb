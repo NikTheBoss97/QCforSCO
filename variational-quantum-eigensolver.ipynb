{
 "cells": [
  {
   "attachments": {},
   "cell_type": "markdown",
   "id": "a6f69b77",
   "metadata": {},
   "source": [
    "*Estimated QPU usage: 73 minutes (tested on IBM Kyiv)*\n",
    "\n",
    "## Background\n",
    "\n",
    "[Variational quantum algorithms](https://arxiv.org/abs/2012.09265) are promising candidate hybrid-algorithms for observing quantum computation utility on noisy near-term devices. Variational algorithms are characterized by the use of a classical optimization algorithm to iteratively update a parameterized trial solution, or \"ansatz\". Chief among these methods is the Variational Quantum Eigensolver (VQE) that aims to solve for the ground state of a given Hamiltonian represented as a linear combination of Pauli terms, with an ansatz circuit where the number of parameters to optimize over is polynomial in the number of qubits.  Given that the size of the full solution vector is exponential in the number of qubits, successful minimization using VQE requires, in general, additional problem-specific information to define the structure of the ansatz circuit.\n",
    "\n",
    "Executing a VQE algorithm requires the following components:\n",
    "\n",
    "1. Hamiltonian and ansatz (problem specification)\n",
    "2. Qiskit Runtime estimator\n",
    "3. Classical optimizer\n",
    "\n",
    "Although the Hamiltonian and ansatz require domain-specific knowledge to construct, these details are immaterial to the Runtime, and we can execute a wide class of VQE problems in the same manner.\n"
   ]
  },
  {
   "cell_type": "markdown",
   "id": "55b94021",
   "metadata": {},
   "source": [
    "## Requirements\n",
    "\n",
    "Before starting this tutorial, ensure that you have the following installed:\n",
    "\n",
    "* Qiskit SDK 1.0 or later, with visualization support (`pip install 'qiskit[visualization]'`)\n",
    "* Qiskit Runtime 0.22 or later(`pip install qiskit-ibm-runtime`)\n"
   ]
  },
  {
   "attachments": {},
   "cell_type": "markdown",
   "id": "988ee237",
   "metadata": {},
   "source": [
    "## Step 1. Map classical inputs to a quantum problem\n",
    "\n",
    "Although the problem instance in question for the VQE algorithm can come from a variety of domains, the form for execution through Qiskit Runtime is the same. Qiskit provides a convenience class for expressing Hamiltonians in Pauli form, and a collection of widely used ansatz circuits in the [`qiskit.circuit.library`](https://docs.quantum-computing.ibm.com/api/qiskit/circuit_library).\n",
    "\n",
    "This example Hamiltonian is derived from a quantum chemistry problem.\n"
   ]
  },
  {
   "attachments": {},
   "cell_type": "markdown",
   "id": "7db2e559",
   "metadata": {},
   "source": [
    "### Setup\n",
    "\n",
    "Here we import the tools needed for a VQE experiment.\n"
   ]
  },
  {
   "cell_type": "code",
   "execution_count": 4,
   "id": "a0a48442",
   "metadata": {},
   "outputs": [],
   "source": [
    "# General imports\n",
    "import numpy as np\n",
    "\n",
    "# Pre-defined ansatz circuit and operator class for Hamiltonian\n",
    "from qiskit.circuit.library import EfficientSU2\n",
    "from qiskit.quantum_info import SparsePauliOp\n",
    "\n",
    "# SciPy minimizer routine\n",
    "from scipy.optimize import minimize\n",
    "\n",
    "# Plotting functions\n",
    "import matplotlib.pyplot as plt"
   ]
  },
  {
   "cell_type": "code",
   "execution_count": 5,
   "id": "bc380c46",
   "metadata": {},
   "outputs": [
    {
     "name": "stderr",
     "output_type": "stream",
     "text": [
      "C:\\Users\\nicol\\AppData\\Local\\Temp\\ipykernel_41484\\1987250645.py:13: DeprecationWarning:  from_backend using V1 based backend is deprecated as of Aer 0.15 and will be removed no sooner than 3 months from that release date. Please use backends based on V2.\n",
      "  backend = AerSimulator.from_backend(backend=chip)\n"
     ]
    }
   ],
   "source": [
    "# runtime imports\n",
    "from qiskit_ibm_runtime import QiskitRuntimeService, Session\n",
    "from qiskit_ibm_runtime import EstimatorV2 as Estimator\n",
    "\n",
    "# for local simulation.\n",
    "from qiskit_aer import AerSimulator\n",
    "from qiskit.providers.fake_provider import Fake27QPulseV1  # or any other Fake device (e.g. Fake127QPulseV1 for a 127 qubit processor)\n",
    "\n",
    "# To run on hardware, select the backend with the fewest number of jobs in the queue\n",
    "# service = QiskitRuntimeService(channel=\"ibm_quantum\")\n",
    "# backend = service.least_busy(operational=True, simulator=False)\n",
    "chip = Fake27QPulseV1()\n",
    "backend = AerSimulator.from_backend(backend=chip)"
   ]
  },
  {
   "cell_type": "code",
   "execution_count": 6,
   "id": "0ad66539",
   "metadata": {},
   "outputs": [],
   "source": [
    "hamiltonian = SparsePauliOp.from_list(\n",
    "    [(\"YZ\", 0.3980), (\"ZI\", -0.3980), (\"ZZ\", -0.0113), (\"XX\", 0.1810)]\n",
    ")"
   ]
  },
  {
   "attachments": {},
   "cell_type": "markdown",
   "id": "acb83d48",
   "metadata": {},
   "source": [
    "Our choice of ansatz is the `EfficientSU2` that, by default, linearly entangles qubits, making it ideal for quantum hardware with limited connectivity.\n"
   ]
  },
  {
   "cell_type": "code",
   "execution_count": 7,
   "id": "59bffe5e",
   "metadata": {},
   "outputs": [
    {
     "data": {
      "image/png": "[encoded data removed]",
      "text/plain": [
       "<Figure size 1039.79x200.667 with 1 Axes>"
      ]
     },
     "execution_count": 7,
     "metadata": {},
     "output_type": "execute_result"
    }
   ],
   "source": [
    "ansatz = EfficientSU2(hamiltonian.num_qubits)\n",
    "ansatz.decompose().draw(\"mpl\", style=\"iqp\")"
   ]
  },
  {
   "attachments": {},
   "cell_type": "markdown",
   "id": "5bd1f7da",
   "metadata": {},
   "source": [
    "From the previous figure we see that our ansatz circuit is defined by a vector of parameters, $\\theta_{i}$, with the total number given by:\n"
   ]
  },
  {
   "cell_type": "code",
   "execution_count": 8,
   "id": "aa325696",
   "metadata": {},
   "outputs": [
    {
     "data": {
      "text/plain": [
       "16"
      ]
     },
     "execution_count": 8,
     "metadata": {},
     "output_type": "execute_result"
    }
   ],
   "source": [
    "num_params = ansatz.num_parameters\n",
    "num_params"
   ]
  },
  {
   "cell_type": "markdown",
   "id": "ac6f36e3",
   "metadata": {},
   "source": [
    "## Step 2. Optimize problem for quantum execution\n"
   ]
  },
  {
   "cell_type": "markdown",
   "id": "ed01c675-6506-4779-bf71-74f0de9212fb",
   "metadata": {},
   "source": [
    "To reduce the total job execution time, Qiskit primitives only accept circuits (ansatz) and observables (Hamiltonian) that conform to the instructions and connectivity supported by the target QPU (referred to as instruction set architecture (ISA) circuits and observables).\n"
   ]
  },
  {
   "cell_type": "markdown",
   "id": "3390069d-572c-472c-abb5-9cde12fd82a2",
   "metadata": {},
   "source": [
    "### ISA circuit\n"
   ]
  },
  {
   "cell_type": "markdown",
   "id": "ad6ddd99-b680-4ac4-b2d8-c0ac6266e6e8",
   "metadata": {},
   "source": [
    "Schedule a series of [`qiskit.transpiler`](https://docs.quantum-computing.ibm.com/api/qiskit/transpiler) passes to optimize the circuit for a selected backend and make it compatible with the backend's ISA. This can be easily done with a preset pass manager from `qiskit.transpiler` and its `optimization_level` parameter.\n",
    "\n",
    "The lowest optimization level does the minimum needed to get the circuit running on the device; it maps the circuit qubits to the device qubits and adds swap gates to allow all two-qubit operations. The highest optimization level is much smarter and uses lots of tricks to reduce the overall gate count. Since multi-qubit gates have high error rates and qubits decohere over time, the shorter circuits should give better results.\n"
   ]
  },
  {
   "cell_type": "code",
   "execution_count": 9,
   "id": "1834cb22",
   "metadata": {},
   "outputs": [],
   "source": [
    "from qiskit.transpiler.preset_passmanagers import generate_preset_pass_manager\n",
    "\n",
    "target = backend.target\n",
    "pm = generate_preset_pass_manager(target=target, optimization_level=3)\n",
    "\n",
    "ansatz_isa = pm.run(ansatz)"
   ]
  },
  {
   "cell_type": "code",
   "execution_count": 10,
   "id": "20d9923c",
   "metadata": {},
   "outputs": [
    {
     "data": {
      "image/png": "[encoded data removed]",
      "text/plain": [
       "<Figure size 2095.61x200.667 with 1 Axes>"
      ]
     },
     "execution_count": 10,
     "metadata": {},
     "output_type": "execute_result"
    }
   ],
   "source": [
    "ansatz_isa.draw(output=\"mpl\", idle_wires=False, style=\"iqp\")"
   ]
  },
  {
   "cell_type": "markdown",
   "id": "aab9e309-d643-496f-ad4b-c90173102ad6",
   "metadata": {},
   "source": [
    "### ISA observable\n"
   ]
  },
  {
   "cell_type": "markdown",
   "id": "6c9e5dcd",
   "metadata": {},
   "source": [
    "Transform the Hamiltonian to make it backend-compatible before running jobs with [`Runtime Estimator V2`](https://docs.quantum.ibm.com/api/qiskit-ibm-runtime/qiskit_ibm_runtime.EstimatorV2#run). Perform the transformation by using the `apply_layout` method of `SparsePauliOp` object.\n"
   ]
  },
  {
   "cell_type": "code",
   "execution_count": 11,
   "id": "3451901c",
   "metadata": {},
   "outputs": [],
   "source": [
    "hamiltonian_isa = hamiltonian.apply_layout(layout=ansatz_isa.layout)"
   ]
  },
  {
   "attachments": {},
   "cell_type": "markdown",
   "id": "b4d480b3",
   "metadata": {},
   "source": [
    "## Step 3. Execute using Qiskit Primitives\n",
    "\n",
    "Like many classical optimization problems, the solution to a VQE problem can be formulated as minimization of a scalar cost function.  By definition, VQE looks to find the ground state solution to a Hamiltonian by optimizing the ansatz circuit parameters to minimize the expectation value (energy) of the Hamiltonian.  With the Qiskit Runtime [`Estimator`](https://docs.quantum.ibm.com/api/qiskit-ibm-runtime/qiskit_ibm_runtime.EstimatorV2) directly taking a Hamiltonian and parameterized ansatz, and returning the necessary energy, the cost function for a VQE instance is quite simple.\n",
    "\n",
    "Note that the `run()` method of [Qiskit Runtime `EstimatorV2`](https://docs.quantum.ibm.com/api/qiskit-ibm-runtime/qiskit_ibm_runtime.EstimatorV2)  takes an iterable of `primitive unified blocs (PUBs)`. Each PUB is an iterable in the format `(circuit, observables, parameter_values: Optional, precision: Optional)`.\n"
   ]
  },
  {
   "cell_type": "code",
   "execution_count": 13,
   "id": "b22a1b00",
   "metadata": {},
   "outputs": [],
   "source": [
    "def cost_func(params, ansatz, hamiltonian, estimator):\n",
    "    \"\"\"Return estimate of energy from estimator\n",
    "\n",
    "    Parameters:\n",
    "        params (ndarray): Array of ansatz parameters\n",
    "        ansatz (QuantumCircuit): Parameterized ansatz circuit\n",
    "        hamiltonian (SparsePauliOp): Operator representation of Hamiltonian\n",
    "        estimator (EstimatorV2): Estimator primitive instance\n",
    "        cost_history_dict: Dictionary for storing intermediate results\n",
    "\n",
    "    Returns:\n",
    "        float: Energy estimate\n",
    "    \"\"\"\n",
    "    pub = (ansatz, [hamiltonian], [params])\n",
    "    result = estimator.run(pubs=[pub]).result()\n",
    "    energy = result[0].data.evs[0]\n",
    "\n",
    "    cost_history_dict[\"iters\"] += 1\n",
    "    cost_history_dict[\"prev_vector\"] = params\n",
    "    cost_history_dict[\"cost_history\"].append(energy)\n",
    "    print(f\"Iters. done: {cost_history_dict['iters']} [Current cost: {energy}]\")\n",
    "\n",
    "    return energy"
   ]
  },
  {
   "attachments": {},
   "cell_type": "markdown",
   "id": "179ba2c4",
   "metadata": {},
   "source": [
    "Note that, in addition to the array of optimization parameters that must be the first argument, we use additional arguments to pass the terms needed in the cost function, such as the `cost_history_dict`. This dictionary stores the current vector at each iteration, for example in case you need to restart the routine due to failure, and also returns the current iteration number and average time per iteration.\n"
   ]
  },
  {
   "cell_type": "code",
   "execution_count": 14,
   "id": "a6bc1ade",
   "metadata": {},
   "outputs": [],
   "source": [
    "cost_history_dict = {\n",
    "    \"prev_vector\": None,\n",
    "    \"iters\": 0,\n",
    "    \"cost_history\": [],\n",
    "}"
   ]
  },
  {
   "cell_type": "markdown",
   "id": "e80ff7d9",
   "metadata": {},
   "source": [
    "We can now use a classical optimizer of our choice to minimize the cost function. Here, we use the [COBYLA routine from SciPy through the `minimize` function](https://docs.scipy.org/doc/scipy/reference/generated/scipy.optimize.minimize.html). Note that when running on real quantum hardware, the choice of optimizer is important, as not all optimizers handle noisy cost function landscapes equally well.\n",
    "\n",
    "To begin the routine, specify a random initial set of parameters:\n"
   ]
  },
  {
   "cell_type": "code",
   "execution_count": 15,
   "id": "d6b90cca",
   "metadata": {},
   "outputs": [],
   "source": [
    "x0 = 2 * np.pi * np.random.random(num_params)"
   ]
  },
  {
   "cell_type": "code",
   "execution_count": 16,
   "id": "d4587c1d-5d59-47aa-b36c-b6d07b5f84e4",
   "metadata": {},
   "outputs": [
    {
     "data": {
      "text/plain": [
       "array([4.0015747 , 1.39030897, 1.18271801, 0.24232006, 2.49490768,\n",
       "       5.82060243, 5.85549728, 3.51166278, 5.8079996 , 2.31145377,\n",
       "       5.53632043, 4.48235207, 3.65316409, 5.07325207, 2.1033648 ,\n",
       "       3.51443821])"
      ]
     },
     "execution_count": 16,
     "metadata": {},
     "output_type": "execute_result"
    }
   ],
   "source": [
    "x0"
   ]
  },
  {
   "cell_type": "markdown",
   "id": "67d09ca9",
   "metadata": {},
   "source": [
    "Because we are sending a large number of jobs that we would like to execute together, we use a [`Session`](https://docs.quantum-computing.ibm.com/api/qiskit-ibm-runtime/qiskit_ibm_runtime.Session) to execute all the generated circuits in one block.  Here `args` is the standard SciPy way to supply the additional parameters needed by the cost function.\n"
   ]
  },
  {
   "cell_type": "code",
   "execution_count": 17,
   "id": "61a802d2-5c58-4495-a617-f15fabef367e",
   "metadata": {},
   "outputs": [
    {
     "name": "stdout",
     "output_type": "stream",
     "text": [
      "Iters. done: 1 [Current cost: -0.12978]\n",
      "Iters. done: 2 [Current cost: -0.14644000000000001]\n",
      "Iters. done: 3 [Current cost: -0.37126000000000003]\n",
      "Iters. done: 4 [Current cost: -0.4648400000000001]\n",
      "Iters. done: 5 [Current cost: -0.49158]\n",
      "Iters. done: 6 [Current cost: -0.48212000000000005]\n",
      "Iters. done: 7 [Current cost: -0.56172]\n",
      "Iters. done: 8 [Current cost: -0.53046]\n",
      "Iters. done: 9 [Current cost: -0.1592]\n",
      "Iters. done: 10 [Current cost: -0.7616400000000001]\n",
      "Iters. done: 11 [Current cost: -0.39758000000000004]\n",
      "Iters. done: 12 [Current cost: -0.4093]\n",
      "Iters. done: 13 [Current cost: -0.19723999999999997]\n",
      "Iters. done: 14 [Current cost: -0.08906000000000001]\n",
      "Iters. done: 15 [Current cost: -0.47266]\n",
      "Iters. done: 16 [Current cost: -0.7182400000000001]\n",
      "Iters. done: 17 [Current cost: -0.47718000000000005]\n",
      "Iters. done: 18 [Current cost: -0.25094000000000005]\n",
      "Iters. done: 19 [Current cost: -0.45990000000000003]\n",
      "Iters. done: 20 [Current cost: -0.02343999999999999]\n",
      "Iters. done: 21 [Current cost: -0.37578000000000006]\n",
      "Iters. done: 22 [Current cost: -0.29392000000000007]\n",
      "Iters. done: 23 [Current cost: -0.39574000000000004]\n",
      "Iters. done: 24 [Current cost: -0.60018]\n",
      "Iters. done: 25 [Current cost: -0.49158]\n",
      "Iters. done: 26 [Current cost: -0.29124]\n",
      "Iters. done: 27 [Current cost: -0.4093]\n",
      "Iters. done: 28 [Current cost: -0.59792]\n",
      "Iters. done: 29 [Current cost: -0.48212000000000005]\n",
      "Iters. done: 30 [Current cost: -0.32066]\n",
      "Iters. done: 31 [Current cost: -0.6892400000000001]\n",
      "Iters. done: 32 [Current cost: -0.7277]\n",
      "Iters. done: 33 [Current cost: -0.37084]\n",
      "Iters. done: 34 [Current cost: -0.6530400000000001]\n",
      "Iters. done: 35 [Current cost: -0.52284]\n",
      "Iters. done: 36 [Current cost: -0.7978400000000001]\n",
      "Iters. done: 37 [Current cost: -0.45044]\n",
      "Iters. done: 38 [Current cost: -0.7277]\n",
      "Iters. done: 39 [Current cost: -0.59792]\n",
      "Iters. done: 40 [Current cost: -0.5662400000000001]\n",
      "Iters. done: 41 [Current cost: -0.6481]\n",
      "Iters. done: 42 [Current cost: -0.40704]\n",
      "Iters. done: 43 [Current cost: -0.53724]\n",
      "Iters. done: 44 [Current cost: -0.26224000000000003]\n",
      "Iters. done: 45 [Current cost: -0.6409]\n",
      "Iters. done: 46 [Current cost: -0.56398]\n",
      "Iters. done: 47 [Current cost: -0.6096400000000001]\n",
      "Iters. done: 48 [Current cost: -0.29618000000000005]\n",
      "Iters. done: 49 [Current cost: -0.64132]\n",
      "Iters. done: 50 [Current cost: -0.45044]\n",
      "Iters. done: 51 [Current cost: -0.5734400000000001]\n",
      "Iters. done: 52 [Current cost: -0.75712]\n",
      "Iters. done: 53 [Current cost: -0.44324]\n",
      "Iters. done: 54 [Current cost: -0.6820400000000001]\n",
      "Iters. done: 55 [Current cost: -0.7159800000000001]\n",
      "Iters. done: 56 [Current cost: -0.6096400000000001]\n",
      "Iters. done: 57 [Current cost: -0.29844000000000004]\n",
      "Iters. done: 58 [Current cost: -0.6024400000000001]\n",
      "Iters. done: 59 [Current cost: -0.29618000000000005]\n",
      "Iters. done: 60 [Current cost: -0.51832]\n",
      "Iters. done: 61 [Current cost: -0.20218000000000003]\n",
      "Iters. done: 62 [Current cost: -0.28898]\n",
      "Iters. done: 63 [Current cost: -0.6024400000000001]\n",
      "Iters. done: 64 [Current cost: -0.3225]\n",
      "Iters. done: 65 [Current cost: -0.52058]\n",
      "Iters. done: 66 [Current cost: -0.24784]\n",
      "Iters. done: 67 [Current cost: -0.6024400000000001]\n",
      "Iters. done: 68 [Current cost: -0.29392000000000007]\n",
      "Iters. done: 69 [Current cost: -0.60018]\n",
      "Iters. done: 70 [Current cost: -0.48664]\n",
      "Iters. done: 71 [Current cost: -0.21432000000000007]\n",
      "Iters. done: 72 [Current cost: -0.52778]\n",
      "Iters. done: 73 [Current cost: -0.40972000000000003]\n",
      "Iters. done: 74 [Current cost: -0.24106000000000002]\n",
      "Iters. done: 75 [Current cost: -0.56398]\n",
      "Iters. done: 76 [Current cost: -0.48438000000000003]\n",
      "Iters. done: 77 [Current cost: -0.44324]\n",
      "Iters. done: 78 [Current cost: -0.7277]\n",
      "Iters. done: 79 [Current cost: -0.44324]\n",
      "Iters. done: 80 [Current cost: -0.32518]\n",
      "Iters. done: 81 [Current cost: -0.5734400000000001]\n",
      "Iters. done: 82 [Current cost: -0.55904]\n",
      "Iters. done: 83 [Current cost: -0.6024400000000001]\n",
      "Iters. done: 84 [Current cost: -0.8050400000000001]\n",
      "Iters. done: 85 [Current cost: -0.47944000000000003]\n",
      "Iters. done: 86 [Current cost: -0.40252000000000004]\n",
      "Iters. done: 87 [Current cost: -0.39984000000000003]\n",
      "Iters. done: 88 [Current cost: -0.6024400000000001]\n",
      "Iters. done: 89 [Current cost: -0.40252000000000004]\n",
      "Iters. done: 90 [Current cost: -0.40704]\n",
      "Iters. done: 91 [Current cost: -0.4021]\n",
      "Iters. done: 92 [Current cost: -0.64358]\n",
      "Iters. done: 93 [Current cost: -0.6024400000000001]\n",
      "Iters. done: 94 [Current cost: -0.7978400000000001]\n",
      "Iters. done: 95 [Current cost: -0.4576400000000001]\n",
      "Iters. done: 96 [Current cost: -0.49158]\n",
      "Iters. done: 97 [Current cost: -0.6771]\n",
      "Iters. done: 98 [Current cost: -0.47944000000000003]\n",
      "Iters. done: 99 [Current cost: -0.48212000000000005]\n",
      "Iters. done: 100 [Current cost: -0.5300400000000001]\n",
      "Iters. done: 101 [Current cost: -0.6748400000000001]\n",
      "Iters. done: 102 [Current cost: -0.7205]\n",
      "Iters. done: 103 [Current cost: -0.13472]\n",
      "Iters. done: 104 [Current cost: -0.32744]\n",
      "Iters. done: 105 [Current cost: -0.6119]\n",
      "Iters. done: 106 [Current cost: -0.6119]\n",
      "Iters. done: 107 [Current cost: -0.36858]\n",
      "Iters. done: 108 [Current cost: -0.49158]\n",
      "Iters. done: 109 [Current cost: -0.7521800000000001]\n",
      "Iters. done: 110 [Current cost: -0.41691999999999996]\n",
      "Iters. done: 111 [Current cost: -0.57838]\n",
      "Iters. done: 112 [Current cost: -0.49384000000000006]\n",
      "Iters. done: 113 [Current cost: -0.7205]\n",
      "Iters. done: 114 [Current cost: -0.40704]\n",
      "Iters. done: 115 [Current cost: -0.7688400000000001]\n",
      "Iters. done: 116 [Current cost: -0.6047]\n",
      "Iters. done: 117 [Current cost: -0.72318]\n",
      "Iters. done: 118 [Current cost: -0.44592000000000004]\n",
      "Iters. done: 119 [Current cost: -0.6481]\n",
      "Iters. done: 120 [Current cost: -0.56892]\n",
      "Iters. done: 121 [Current cost: -0.6915]\n",
      "Iters. done: 122 [Current cost: -0.7476600000000001]\n",
      "Iters. done: 123 [Current cost: -0.52552]\n",
      "Iters. done: 124 [Current cost: -0.4165]\n",
      "Iters. done: 125 [Current cost: -0.55904]\n",
      "Iters. done: 126 [Current cost: -0.55678]\n",
      "Iters. done: 127 [Current cost: -0.49158]\n",
      "Iters. done: 128 [Current cost: -0.32292000000000004]\n",
      "Iters. done: 129 [Current cost: -0.3297]\n",
      "Iters. done: 130 [Current cost: -0.5323]\n",
      "Iters. done: 131 [Current cost: -0.4527]\n",
      "Iters. done: 132 [Current cost: -0.6458400000000001]\n",
      "Iters. done: 133 [Current cost: -0.5323]\n",
      "Iters. done: 134 [Current cost: -0.52284]\n",
      "Iters. done: 135 [Current cost: -0.55904]\n",
      "Iters. done: 136 [Current cost: -0.36406]\n"
     ]
    }
   ],
   "source": [
    "with Session(backend=backend) as session:\n",
    "    estimator = Estimator(mode=session)\n",
    "    estimator.options.default_shots = 10\n",
    "\n",
    "    res = minimize(\n",
    "        cost_func,\n",
    "        x0,\n",
    "        args=(ansatz_isa, hamiltonian_isa, estimator),\n",
    "        method=\"cobyla\",\n",
    "    )"
   ]
  },
  {
   "cell_type": "markdown",
   "id": "937f5a6e",
   "metadata": {},
   "source": [
    "At the terminus of this routine we have a result in the standard SciPy `OptimizeResult` format.  From this we see that it took `nfev` number of cost function evaluations to obtain the solution vector of parameter angles (`x`) that, when plugged into the ansatz circuit, yield the approximate ground state solution we were looking for.\n"
   ]
  },
  {
   "cell_type": "code",
   "execution_count": 18,
   "id": "4e76845a-3fa0-4d12-86b5-de5b2bdee86c",
   "metadata": {},
   "outputs": [
    {
     "data": {
      "text/plain": [
       " message: Optimization terminated successfully.\n",
       " success: True\n",
       "  status: 1\n",
       "     fun: -0.36406\n",
       "       x: [ 4.993e+00  2.401e+00 ...  2.165e+00  3.510e+00]\n",
       "    nfev: 136\n",
       "   maxcv: 0.0"
      ]
     },
     "execution_count": 18,
     "metadata": {},
     "output_type": "execute_result"
    }
   ],
   "source": [
    "res"
   ]
  },
  {
   "cell_type": "markdown",
   "id": "50b94af2",
   "metadata": {},
   "source": [
    "## Step 4. Post-process, return result in classical format\n"
   ]
  },
  {
   "attachments": {},
   "cell_type": "markdown",
   "id": "733431ad",
   "metadata": {},
   "source": [
    "If the procedure terminates correctly, then the `prev_vector` and `iters` values in our `cost_history_dict` dictionary should be equal to the solution vector and total number of function evaluations, respectively.  This is easy to verify:\n"
   ]
  },
  {
   "cell_type": "code",
   "execution_count": 19,
   "id": "31dc35ea-6554-4ca7-9c3b-0b5394c46e4e",
   "metadata": {},
   "outputs": [
    {
     "data": {
      "text/plain": [
       "True"
      ]
     },
     "execution_count": 19,
     "metadata": {},
     "output_type": "execute_result"
    }
   ],
   "source": [
    "all(cost_history_dict[\"prev_vector\"] == res.x)"
   ]
  },
  {
   "cell_type": "code",
   "execution_count": 20,
   "id": "a90d1664-1728-4a8a-bb11-03f15e3f5639",
   "metadata": {},
   "outputs": [
    {
     "data": {
      "text/plain": [
       "True"
      ]
     },
     "execution_count": 20,
     "metadata": {},
     "output_type": "execute_result"
    }
   ],
   "source": [
    "cost_history_dict[\"iters\"] == res.nfev"
   ]
  },
  {
   "attachments": {},
   "cell_type": "markdown",
   "id": "19459b48",
   "metadata": {},
   "source": [
    "We can also now view the progress toward convergence as monitored by the cost history at each iteration:\n"
   ]
  },
  {
   "cell_type": "code",
   "execution_count": 21,
   "id": "8501d609",
   "metadata": {},
   "outputs": [
    {
     "data": {
      "image/png": "[encoded data removed]",
      "text/plain": [
       "<Figure size 640x480 with 1 Axes>"
      ]
     },
     "metadata": {},
     "output_type": "display_data"
    }
   ],
   "source": [
    "fig, ax = plt.subplots()\n",
    "ax.plot(range(cost_history_dict[\"iters\"]), cost_history_dict[\"cost_history\"])\n",
    "ax.set_xlabel(\"Iterations\")\n",
    "ax.set_ylabel(\"Cost\")\n",
    "plt.draw()"
   ]
  },
  {
   "cell_type": "markdown",
   "id": "d2958e37",
   "metadata": {},
   "source": [
    "## Tutorial Survey\n",
    "\n",
    "<table style=\"width: 100%;\">\n",
    "<tbody>\n",
    "<tr>\n",
    "<td style=\"width: 10%;\"><img src=\"https://learning-api.quantum.ibm.com/assets/53171443-b07b-4ae6-a4be-9aec32a854f5\" alt=\"Survey\" width=\"100%\" height=\"100%\"></td>\n",
    "<td style=\"width: 80%;\"><strong><a title=\"Tutorial Survey\" href=\"https://your.feedback.ibm.com/jfe/form/SV_9AizRyKFHEGzVs2\" target=\"_blank\">Tutorial Survey</a></strong><br>Please take one minute to provide feedback on this tutorial. Your insights will help us improve our content offerings and user experience.</td>\n",
    "</tr>\n",
    "</tbody>\n",
    "</table>\n"
   ]
  }
 ],
 "metadata": {
  "kernelspec": {
   "display_name": "quantum",
   "language": "python",
   "name": "python3"
  },
  "language_info": {
   "codemirror_mode": {
    "name": "ipython",
    "version": 3
   },
   "file_extension": ".py",
   "mimetype": "text/x-python",
   "name": "python",
   "nbconvert_exporter": "python",
   "pygments_lexer": "ipython3",
   "version": "3.12.7"
  }
 },
 "nbformat": 4,
 "nbformat_minor": 5
}
